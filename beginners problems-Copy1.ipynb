{
 "cells": [
  {
   "cell_type": "code",
   "execution_count": 1,
   "metadata": {},
   "outputs": [
    {
     "name": "stdout",
     "output_type": "stream",
     "text": [
      "You have successfully run some python code\n",
      "Congratulations !\n"
     ]
    }
   ],
   "source": [
    "print(\"You have successfully run some python code\") \n",
    "print(\"Congratulations !\")"
   ]
  },
  {
   "cell_type": "code",
   "execution_count": 3,
   "metadata": {},
   "outputs": [],
   "source": [
    "color = \"Blue\""
   ]
  },
  {
   "cell_type": "code",
   "execution_count": 3,
   "metadata": {},
   "outputs": [
    {
     "name": "stdout",
     "output_type": "stream",
     "text": [
      "113.09724\n"
     ]
    }
   ],
   "source": [
    "# area of circle\n",
    "pi = 3.14159\n",
    "radius = 6\n",
    "diameter = 1/2 * radius\n",
    "area = pi * radius ** 2 \n",
    "print(area)"
   ]
  },
  {
   "cell_type": "code",
   "execution_count": 4,
   "metadata": {},
   "outputs": [
    {
     "data": {
      "text/plain": [
       "4"
      ]
     },
     "execution_count": 4,
     "metadata": {},
     "output_type": "execute_result"
    }
   ],
   "source": [
    "5 - 3 // 2"
   ]
  },
  {
   "cell_type": "code",
   "execution_count": 1,
   "metadata": {},
   "outputs": [
    {
     "name": "stdout",
     "output_type": "stream",
     "text": [
      "guess the number from the folllowing [0, 1, 2, 3, 4, 5, 6, 7, 8, 9]\n",
      "Enter a number 6\n",
      "wrong number\n",
      "Enter a number 3\n",
      "wrong number\n",
      "Enter a number 4\n",
      "wrong number\n",
      "Enter a number 5\n",
      "You win\n",
      "you made 4 trials\n"
     ]
    }
   ],
   "source": [
    "# aminu assignment\n",
    "import sys \n",
    "magic_numbers = [0, 1, 2, 3, 4, 5, 6, 7, 8, 9]\n",
    "print(\"guess the number from the folllowing \" + str(magic_numbers) )\n",
    "secret_number = int(5)\n",
    "guess = \"\"\n",
    "guess_count = 0\n",
    "exit = (\"exit\")\n",
    "while guess != secret_number:\n",
    "    guess = int(input(\"Enter a number \"))\n",
    "    guess_count += 1\n",
    "    if guess < secret_number or guess > secret_number:\n",
    "        print(\"wrong number\")\n",
    "    elif guess == exit:\n",
    "        sys.exit()\n",
    "    else:\n",
    "        print(\"You win\")\n",
    "print(\"you made \" + str(guess_count) + \" trials\" )"
   ]
  },
  {
   "cell_type": "code",
   "execution_count": 7,
   "metadata": {},
   "outputs": [
    {
     "name": "stdout",
     "output_type": "stream",
     "text": [
      "Enter candy num: 217\n",
      "they will share 72 each and smash 1\n"
     ]
    }
   ],
   "source": [
    "#Alice, Bob and Carol have agreed to pool their Halloween candy and split it evenly among themselves\n",
    "#For the sake of their friendship, any candies left over will be smashed. For example, if they collectively\n",
    "#bring home 91 candies, they'll take 30 each and smash 1.\n",
    "\n",
    "Total_candy = \"\"\n",
    "Total_candy = int(input(\"Enter candy num: \"))\n",
    "share =  int(Total_candy / 3)\n",
    "smash = int(Total_candy % 3)\n",
    "print(\"they will share \" + str(share) + \" each and smash \" + str(smash)) "
   ]
  },
  {
   "cell_type": "code",
   "execution_count": null,
   "metadata": {},
   "outputs": [],
   "source": [
    "#Create a program that asks the user to enter their name and their age.\n",
    "#Print out a message addressed to them that tells them the year that they will turn 100 years old.\n",
    "\n",
    "Name = \"\"\n",
    "age = \"\"\n",
    "current_year = \"\"\n",
    "Name = input(\"enter your name : \")\n",
    "age = int(input(\"enter your age : \"))\n",
    "current_year = int(input(\"enter current year : \"))\n",
    "turns_100 = current_year + (100 - age) \n",
    "print(\"Hello \" + Name + \" , you turn 100 years old in the year \" + str(turns_100) )"
   ]
  },
  {
   "cell_type": "code",
   "execution_count": 1,
   "metadata": {},
   "outputs": [
    {
     "name": "stdout",
     "output_type": "stream",
     "text": [
      "enter a num : 40\n",
      "number is even \n",
      "number is a multiple of 4 \n"
     ]
    }
   ],
   "source": [
    "#Ask the user for a number. Depending on whether the number is even or odd, print out an appropriate message to the user.\n",
    "#Hint: how does an even / odd number react differently when divided by 2?\n",
    "#If the number is a multiple of 4, print out a different message.\n",
    "#Ask the user for two numbers: one number to check (call it num) and one number to divide by (check).\n",
    "#If check divides evenly into num, tell that to the user. If not, print a different appropriate message.\n",
    "\n",
    "\n",
    "num = \"\"\n",
    "num = int(input(\"enter a num : \"))\n",
    "result = num / 2\n",
    "result2 = num / 4\n",
    "if result == int(result):\n",
    "    print(\"number is even \")\n",
    "else: \n",
    "    print(\"number is odd\")\n",
    "if result2 == int(result2):\n",
    "    print(\"number is a multiple of 4 \")\n",
    "else:\n",
    "    print(\"\")"
   ]
  },
  {
   "cell_type": "code",
   "execution_count": 3,
   "metadata": {},
   "outputs": [
    {
     "name": "stdout",
     "output_type": "stream",
     "text": [
      "enter a num : 100\n",
      "enter a check num : 10\n",
      "10 divides 100 evenly\n"
     ]
    }
   ],
   "source": [
    "num = int(input(\"enter a num : \"))\n",
    "check = int(input(\"enter a check num : \"))\n",
    "if num % check == 0:\n",
    "    print(str(check) + \" divides \" + str(num) + \" evenly\")\n",
    "else:\n",
    "    print(\"does not divide evenly\")"
   ]
  },
  {
   "cell_type": "code",
   "execution_count": 4,
   "metadata": {},
   "outputs": [],
   "source": []
  },
  {
   "cell_type": "code",
   "execution_count": 5,
   "metadata": {},
   "outputs": [
    {
     "name": "stdout",
     "output_type": "stream",
     "text": [
      "0\n",
      "1\n",
      "2\n",
      "3\n",
      "4\n"
     ]
    }
   ],
   "source": [
    "numbers = [0,1,2,3,4,5,6,7,8,9,10]\n",
    "for num in numbers:\n",
    "    if num < 5:\n",
    "        print(num)"
   ]
  },
  {
   "cell_type": "code",
   "execution_count": 7,
   "metadata": {},
   "outputs": [
    {
     "name": "stdout",
     "output_type": "stream",
     "text": [
      "Enter a num : 6\n",
      "0\n",
      "1\n",
      "2\n",
      "3\n",
      "4\n",
      "5\n"
     ]
    }
   ],
   "source": [
    "numbers = [0,1,2,3,4,5,6,7,8,9,10]\n",
    "x = int(input(\"Enter a num : \"))\n",
    "for num in numbers:    \n",
    "    if num < x:\n",
    "        print(num)"
   ]
  },
  {
   "cell_type": "code",
   "execution_count": 1,
   "metadata": {},
   "outputs": [
    {
     "name": "stdout",
     "output_type": "stream",
     "text": [
      "Enter first number: 4\n",
      "Enter an operator *\n",
      "Enter second number: 909998\n",
      "3639992.0\n"
     ]
    }
   ],
   "source": [
    "#Basic calculator\n",
    "num1 = float(input(\"Enter first number: \"))\n",
    "op = input(\"Enter an operator \")\n",
    "num2 = float(input(\"Enter second number: \" ))\n",
    "\n",
    "if op == \"+\":\n",
    "    print(num1 + num2)\n",
    "elif op == \"-\":\n",
    "    print(num1 - num2)\n",
    "elif op == \"/\":\n",
    "    print(num1 / num2)\n",
    "elif op == \"*\":\n",
    "    print(num1 * num2)\n",
    "else:\n",
    "    print(\"syntax error\")\n"
   ]
  },
  {
   "cell_type": "code",
   "execution_count": null,
   "metadata": {},
   "outputs": [],
   "source": []
  },
  {
   "cell_type": "code",
   "execution_count": null,
   "metadata": {},
   "outputs": [],
   "source": []
  }
 ],
 "metadata": {
  "kernelspec": {
   "display_name": "Python 3",
   "language": "python",
   "name": "python3"
  },
  "language_info": {
   "codemirror_mode": {
    "name": "ipython",
    "version": 3
   },
   "file_extension": ".py",
   "mimetype": "text/x-python",
   "name": "python",
   "nbconvert_exporter": "python",
   "pygments_lexer": "ipython3",
   "version": "3.7.4"
  }
 },
 "nbformat": 4,
 "nbformat_minor": 2
}
